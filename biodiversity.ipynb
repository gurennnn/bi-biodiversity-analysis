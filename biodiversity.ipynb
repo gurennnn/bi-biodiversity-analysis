{
 "cells": [
  {
   "attachments": {},
   "cell_type": "markdown",
   "metadata": {},
   "source": [
    "# Biodiversity in National Park\n",
    "\n",
    "For this project, we will interpret data from the National Parks Service about endangered species in different parks.\n",
    "\n",
    "## Goals\n",
    "\n",
    "Applying data analysis methods, including :\n",
    "- data cleaning\n",
    "- exploratory data analysis\n",
    "- summary statistics and data visualization\n",
    "- communicating insights through a slide deck\n",
    "\n",
    "## Data\n",
    "\n",
    "We dispose of two datasets in the csv format, `observations.csv` and `species_info.csv` within the `data` folder.\n",
    "\n",
    "`species_info.csv`:\n",
    "- category : class of animal\n",
    "- scientific_name : the scientific name of each species\n",
    "- common_name : the common name of each species\n",
    "- conservation_status : each species' current conservation status\n",
    "\n",
    "`observations.csv`:\n",
    "- scientific_name : the scientific name of each species\n",
    "- park_name : the park where species are observed\n",
    "- observations : the number of times each species was observed at park\n",
    "\n",
    "## Analysis\n",
    "\n",
    "The main questions to answer :\n",
    "1. What is the frequency of each category, and across the different statuses ?\n",
    "2. What is the distribution of `conservation_status` for animals ?\n",
    "3. What are the species that are more likely to be endangered ?\n",
    "4. What are the most observed species, and across each park ?\n",
    "<hr>\n",
    "\n",
    "##### Let's get to work !!!"
   ]
  },
  {
   "attachments": {},
   "cell_type": "markdown",
   "metadata": {},
   "source": [
    "### I- Exploring and cleaning data"
   ]
  },
  {
   "cell_type": "code",
   "execution_count": 21,
   "metadata": {},
   "outputs": [],
   "source": [
    "import numpy as np\n",
    "import pandas as pd\n",
    "import matplotlib.pyplot as plt\n",
    "import seaborn as sns\n",
    "\n",
    "# loading the first dataset\n",
    "info = pd.read_csv('data/species_info.csv')"
   ]
  },
  {
   "attachments": {},
   "cell_type": "markdown",
   "metadata": {},
   "source": [
    "##### Exploring `species_info`"
   ]
  },
  {
   "cell_type": "code",
   "execution_count": 22,
   "metadata": {},
   "outputs": [
    {
     "name": "stdout",
     "output_type": "stream",
     "text": [
      "  category                scientific_name  \\\n",
      "0   Mammal  Clethrionomys gapperi gapperi   \n",
      "1   Mammal                      Bos bison   \n",
      "2   Mammal                     Bos taurus   \n",
      "3   Mammal                     Ovis aries   \n",
      "4   Mammal                 Cervus elaphus   \n",
      "\n",
      "                                        common_names conservation_status  \n",
      "0                           Gapper's Red-Backed Vole                 NaN  \n",
      "1                              American Bison, Bison                 NaN  \n",
      "2  Aurochs, Aurochs, Domestic Cattle (Feral), Dom...                 NaN  \n",
      "3  Domestic Sheep, Mouflon, Red Sheep, Sheep (Feral)                 NaN  \n",
      "4                                      Wapiti Or Elk                 NaN  \n",
      "-------------------------------------------------------------------------------------\n",
      "Index(['category', 'scientific_name', 'common_names', 'conservation_status'], dtype='object')\n",
      "-------------------------------------------------------------------------------------\n",
      "category               object\n",
      "scientific_name        object\n",
      "common_names           object\n",
      "conservation_status    object\n",
      "dtype: object\n",
      "-------------------------------------------------------------------------------------\n",
      "<class 'pandas.core.frame.DataFrame'>\n",
      "RangeIndex: 5824 entries, 0 to 5823\n",
      "Data columns (total 4 columns):\n",
      " #   Column               Non-Null Count  Dtype \n",
      "---  ------               --------------  ----- \n",
      " 0   category             5824 non-null   object\n",
      " 1   scientific_name      5824 non-null   object\n",
      " 2   common_names         5824 non-null   object\n",
      " 3   conservation_status  191 non-null    object\n",
      "dtypes: object(4)\n",
      "memory usage: 182.1+ KB\n",
      "None\n",
      "-------------------------------------------------------------------------------------\n",
      "              category    scientific_name        common_names  \\\n",
      "count             5824               5824                5824   \n",
      "unique               7               5541                5504   \n",
      "top     Vascular Plant  Castor canadensis  Brachythecium Moss   \n",
      "freq              4470                  3                   7   \n",
      "\n",
      "       conservation_status  \n",
      "count                  191  \n",
      "unique                   4  \n",
      "top     Species of Concern  \n",
      "freq                   161  \n",
      "-------------------------------------------------------------------------------------\n"
     ]
    }
   ],
   "source": [
    "# inspecting the dataset\n",
    "print(info.head(5))\n",
    "print('-------------------------------------------------------------------------------------')\n",
    "# exploring columns and datatypes\n",
    "print(info.columns)\n",
    "print('-------------------------------------------------------------------------------------')\n",
    "print(info.dtypes)\n",
    "print('-------------------------------------------------------------------------------------')\n",
    "print(info.info())\n",
    "print('-------------------------------------------------------------------------------------')\n",
    "print(info.describe(include='all'))\n",
    "print('-------------------------------------------------------------------------------------')"
   ]
  },
  {
   "attachments": {},
   "cell_type": "markdown",
   "metadata": {},
   "source": [
    "Starting with the dataset inspection, it seems like all the columns are indeed nominal. both the `category` and `conservation_status` are categorical and have a few number of distinct values which we are going to discover, the `scientific_name` is categorical but unique values are numerous since each species has its own scientific name, but `common_names` doesn't represent categories, it represents a list of common names separated by commas, so it'd be better to change this column's type to `string` rather than `object`."
   ]
  },
  {
   "cell_type": "code",
   "execution_count": 23,
   "metadata": {},
   "outputs": [],
   "source": [
    "# changin column type\n",
    "info['common_names'] = info['common_names'].astype('string')\n",
    "\n",
    "# eliminating rows with duplicate values for scientific_name\n",
    "info = info.drop_duplicates(subset=['scientific_name'])\n",
    "\n",
    "# dropping the common_names column\n",
    "info = info[['scientific_name', 'category', 'conservation_status']]"
   ]
  },
  {
   "cell_type": "code",
   "execution_count": 24,
   "metadata": {},
   "outputs": [
    {
     "name": "stdout",
     "output_type": "stream",
     "text": [
      "<class 'pandas.core.frame.DataFrame'>\n",
      "Int64Index: 5541 entries, 0 to 5823\n",
      "Data columns (total 3 columns):\n",
      " #   Column               Non-Null Count  Dtype \n",
      "---  ------               --------------  ----- \n",
      " 0   scientific_name      5541 non-null   object\n",
      " 1   category             5541 non-null   object\n",
      " 2   conservation_status  178 non-null    object\n",
      "dtypes: object(3)\n",
      "memory usage: 173.2+ KB\n",
      "None\n",
      "-------------------------------------------------------------------------------------\n",
      "                      scientific_name        category conservation_status\n",
      "count                            5541            5541                 178\n",
      "unique                           5541               7                   4\n",
      "top     Clethrionomys gapperi gapperi  Vascular Plant  Species of Concern\n",
      "freq                                1            4262                 151\n",
      "-------------------------------------------------------------------------------------\n"
     ]
    }
   ],
   "source": [
    "print(info.info())\n",
    "print('-------------------------------------------------------------------------------------')\n",
    "print(info.describe(include='all'))\n",
    "print('-------------------------------------------------------------------------------------')"
   ]
  },
  {
   "attachments": {},
   "cell_type": "markdown",
   "metadata": {},
   "source": [
    "Moving on, we see that the only column that has null values is actually `conservation_status`, we'll investigate later on the reason of this missingess. Now let's examine the different categories we have for our `category` and `conservation_status` columns."
   ]
  },
  {
   "cell_type": "code",
   "execution_count": 25,
   "metadata": {},
   "outputs": [
    {
     "name": "stdout",
     "output_type": "stream",
     "text": [
      "The seven categories of species we have are :\n",
      "\t-  Mammal\n",
      "\t-  Bird\n",
      "\t-  Reptile\n",
      "\t-  Amphibian\n",
      "\t-  Fish\n",
      "\t-  Vascular Plant\n",
      "\t-  Nonvascular Plant\n",
      "The four conservation statuses are :\n",
      "\t-  Species of Concern\n",
      "\t-  Endangered\n",
      "\t-  Threatened\n",
      "\t-  In Recovery\n"
     ]
    }
   ],
   "source": [
    "# examining the distinct categories\n",
    "print('The seven categories of species we have are :')\n",
    "for category in info.category.unique():\n",
    "    print('\\t- ', category)\n",
    "\n",
    "conservation_statuses = info.conservation_status.dropna().unique()\n",
    "print('The four conservation statuses are :')\n",
    "for status in info.conservation_status.dropna().unique():\n",
    "    print('\\t- ', status)"
   ]
  },
  {
   "attachments": {},
   "cell_type": "markdown",
   "metadata": {},
   "source": [
    "Let's try to get a better sense of the data and the proportion of each category through visualizations."
   ]
  },
  {
   "cell_type": "code",
   "execution_count": 26,
   "metadata": {},
   "outputs": [
    {
     "data": {
      "image/png": "[encoded data removed]",
      "text/plain": [
       "<Figure size 800x400 with 1 Axes>"
      ]
     },
     "metadata": {},
     "output_type": "display_data"
    }
   ],
   "source": [
    "# bar chart of categories\n",
    "sns.catplot(\n",
    "    data=info,\n",
    "    x='category', kind='count', order=info.category.value_counts().index,\n",
    "    height=4, aspect=2\n",
    ")\n",
    "plt.xticks(fontsize=7)\n",
    "plt.yticks(fontsize=7)\n",
    "plt.title('Distribution of Categories Among Species')\n",
    "plt.xlabel('')\n",
    "plt.ylabel('frequency')\n",
    "plt.show()"
   ]
  },
  {
   "attachments": {},
   "cell_type": "markdown",
   "metadata": {},
   "source": [
    "The 'Vascular Plant' category is dominant.<br>\n",
    "Next, let's try to get the distribution of categories with missing conservation status."
   ]
  },
  {
   "cell_type": "code",
   "execution_count": 27,
   "metadata": {},
   "outputs": [],
   "source": [
    "# counting null values on conservation status for each category\n",
    "df = info.conservation_status.isna().groupby(info.category).sum().sort_values(ascending=False).reset_index().rename(columns={'conservation_status': 'missing_count'})"
   ]
  },
  {
   "cell_type": "code",
   "execution_count": 28,
   "metadata": {},
   "outputs": [
    {
     "data": {
      "text/plain": [
       "<Figure size 1000x500 with 0 Axes>"
      ]
     },
     "metadata": {},
     "output_type": "display_data"
    },
    {
     "data": {
      "image/png": "[encoded data removed]",
      "text/plain": [
       "<Figure size 800x400 with 1 Axes>"
      ]
     },
     "metadata": {},
     "output_type": "display_data"
    }
   ],
   "source": [
    "# bar chart\n",
    "plt.figure(figsize=(10,5))\n",
    "sns.catplot(\n",
    "    data=df,\n",
    "    x='category', y='missing_count', kind='bar',\n",
    "    height=4, aspect=2\n",
    ")\n",
    "plt.title('Distribution of Categories with Missing Conservation Status')\n",
    "plt.xticks(fontsize=7)\n",
    "plt.yticks(fontsize=7)\n",
    "plt.ylabel('frequency')\n",
    "plt.xlabel('')\n",
    "plt.show()"
   ]
  },
  {
   "attachments": {},
   "cell_type": "markdown",
   "metadata": {},
   "source": [
    "We notice that the distribution of categories with missing conservation status tends to be identical to the general distribution of categories, meaning that this could be a MCAR (missing completely at random) data, since that for all groups, data is equally likely to be missing, meaning that maybe we need to get rid of it, because we can't predict any values to be there."
   ]
  },
  {
   "cell_type": "code",
   "execution_count": 29,
   "metadata": {},
   "outputs": [
    {
     "data": {
      "image/png": "[encoded data removed]",
      "text/plain": [
       "<Figure size 1000x400 with 2 Axes>"
      ]
     },
     "metadata": {},
     "output_type": "display_data"
    }
   ],
   "source": [
    "# eliminating rows with missing values for conservation_status\n",
    "info_ = info.dropna(subset='conservation_status')\n",
    "\n",
    "# 1: getting the count of species for each category\n",
    "category_count = info_[['scientific_name', 'category']].groupby('category').count().reset_index()\n",
    "\n",
    "# 2: getting the count of species with each conservation_status for each category\n",
    "category_status_count = info_[['scientific_name', 'category', 'conservation_status']].groupby(by=['category', 'conservation_status']).count().reset_index().merge(category_count, how='inner', on='category')\n",
    "\n",
    "# 3: dividing the count of the second dataframe by those of the first for getting the proportion of each conservation_status from each category\n",
    "category_status_count['proportion'] = (category_status_count.scientific_name_x / category_status_count.scientific_name_y)\n",
    "\n",
    "# 4: preparing the dataframe for the heatmap\n",
    "category_status_count = category_status_count[['category', 'conservation_status', 'proportion']].pivot_table(\n",
    "    index='category',\n",
    "    columns='conservation_status',\n",
    "    values='proportion'\n",
    ").fillna(0)\n",
    "\n",
    "# 5: creating the heatmap\n",
    "fig = plt.figure(figsize=(10,4))\n",
    "\n",
    "sns.heatmap(\n",
    "    data=category_status_count,\n",
    "    linewidths=0.1, linecolor='white',\n",
    "    cmap='Blues'\n",
    ")\n",
    "\n",
    "plt.title('Proportions of Conservation Statuses for each Category', fontsize=16, y=1.1, color='darkcyan')\n",
    "plt.xlabel('')\n",
    "plt.ylabel('')\n",
    "plt.xticks(fontsize=7, color='darkcyan')\n",
    "plt.yticks(fontsize=7, color='darkcyan')\n",
    "\n",
    "plt.show()"
   ]
  },
  {
   "attachments": {},
   "cell_type": "markdown",
   "metadata": {},
   "source": [
    "From the graph above, if we take a look at the endangered status, which is what we are mostly interested in, we see that fishes and mammals have the highest proportions. Meanwhile, plants, reptiles and birds are mostly species of concern.<br>\n",
    "These results would be so much more accurate if we didn't have that much rate of missing values for the status variable, but with the data we have in our hands, these insights make a good investigation for the endangered species, and maybe we can get more while exploring the second dataset. "
   ]
  },
  {
   "attachments": {},
   "cell_type": "markdown",
   "metadata": {},
   "source": [
    "##### Exploring `species_info`"
   ]
  },
  {
   "cell_type": "code",
   "execution_count": 30,
   "metadata": {},
   "outputs": [
    {
     "name": "stdout",
     "output_type": "stream",
     "text": [
      "            scientific_name                            park_name  observations\n",
      "0        Vicia benghalensis  Great Smoky Mountains National Park            68\n",
      "1            Neovison vison  Great Smoky Mountains National Park            77\n",
      "2         Prunus subcordata               Yosemite National Park           138\n",
      "3      Abutilon theophrasti                  Bryce National Park            84\n",
      "4  Githopsis specularioides  Great Smoky Mountains National Park            85\n",
      "-------------------------------------------------------------------------------------\n",
      "Index(['scientific_name', 'park_name', 'observations'], dtype='object')\n",
      "-------------------------------------------------------------------------------------\n",
      "scientific_name    object\n",
      "park_name          object\n",
      "observations        int64\n",
      "dtype: object\n",
      "-------------------------------------------------------------------------------------\n",
      "<class 'pandas.core.frame.DataFrame'>\n",
      "RangeIndex: 23296 entries, 0 to 23295\n",
      "Data columns (total 3 columns):\n",
      " #   Column           Non-Null Count  Dtype \n",
      "---  ------           --------------  ----- \n",
      " 0   scientific_name  23296 non-null  object\n",
      " 1   park_name        23296 non-null  object\n",
      " 2   observations     23296 non-null  int64 \n",
      "dtypes: int64(1), object(2)\n",
      "memory usage: 546.1+ KB\n",
      "None\n",
      "-------------------------------------------------------------------------------------\n",
      "         scientific_name                            park_name  observations\n",
      "count              23296                                23296  23296.000000\n",
      "unique              5541                                    4           NaN\n",
      "top     Myotis lucifugus  Great Smoky Mountains National Park           NaN\n",
      "freq                  12                                 5824           NaN\n",
      "mean                 NaN                                  NaN    142.287904\n",
      "std                  NaN                                  NaN     69.890532\n",
      "min                  NaN                                  NaN      9.000000\n",
      "25%                  NaN                                  NaN     86.000000\n",
      "50%                  NaN                                  NaN    124.000000\n",
      "75%                  NaN                                  NaN    195.000000\n",
      "max                  NaN                                  NaN    321.000000\n",
      "-------------------------------------------------------------------------------------\n"
     ]
    }
   ],
   "source": [
    "# loading the second dataset\n",
    "obs = pd.read_csv('data/observations.csv')\n",
    "\n",
    "# inspecting the dataset\n",
    "print(obs.head(5))\n",
    "print('-------------------------------------------------------------------------------------')\n",
    "# exploring columns and datatypes\n",
    "print(obs.columns)\n",
    "print('-------------------------------------------------------------------------------------')\n",
    "print(obs.dtypes)\n",
    "print('-------------------------------------------------------------------------------------')\n",
    "print(obs.info())\n",
    "print('-------------------------------------------------------------------------------------')\n",
    "print(obs.describe(include='all'))\n",
    "print('-------------------------------------------------------------------------------------')"
   ]
  },
  {
   "attachments": {},
   "cell_type": "markdown",
   "metadata": {},
   "source": [
    "One thing is unusual here, notice how there are 4 occurences of the scientific_name Myotis Lucifugus, eventhough there are only 4 parks, let's zoom in to this part of the dataframe. "
   ]
  },
  {
   "cell_type": "code",
   "execution_count": 31,
   "metadata": {},
   "outputs": [
    {
     "name": "stdout",
     "output_type": "stream",
     "text": [
      "        scientific_name                            park_name  observations\n",
      "1603   Myotis lucifugus  Great Smoky Mountains National Park            57\n",
      "7094   Myotis lucifugus            Yellowstone National Park           239\n",
      "8308   Myotis lucifugus  Great Smoky Mountains National Park            59\n",
      "9318   Myotis lucifugus                  Bryce National Park           103\n",
      "9738   Myotis lucifugus               Yosemite National Park           124\n",
      "10759  Myotis lucifugus                  Bryce National Park           108\n",
      "11395  Myotis lucifugus  Great Smoky Mountains National Park            58\n",
      "12562  Myotis lucifugus            Yellowstone National Park           233\n",
      "13611  Myotis lucifugus               Yosemite National Park           134\n",
      "15865  Myotis lucifugus                  Bryce National Park            87\n",
      "16038  Myotis lucifugus               Yosemite National Park           138\n",
      "16384  Myotis lucifugus            Yellowstone National Park           207\n"
     ]
    }
   ],
   "source": [
    "# inspecting the scientific name Myotis lucifugus\n",
    "print(obs.loc[obs.scientific_name == 'Myotis lucifugus'])"
   ]
  },
  {
   "attachments": {},
   "cell_type": "markdown",
   "metadata": {},
   "source": [
    "It's very clear now, we have repeated observations, the best and most intuitive way to deal with this is to add up observations for the same park for each species, so we get exactly 4 occurences for each species, exactly 1 occurence for each park."
   ]
  },
  {
   "cell_type": "code",
   "execution_count": 32,
   "metadata": {},
   "outputs": [],
   "source": [
    "obs = obs.groupby(by=['scientific_name', 'park_name']).sum('observations').reset_index()"
   ]
  },
  {
   "cell_type": "code",
   "execution_count": 33,
   "metadata": {},
   "outputs": [
    {
     "name": "stdout",
     "output_type": "stream",
     "text": [
      "  scientific_name                            park_name  observations\n",
      "0   Abies bifolia                  Bryce National Park           109\n",
      "1   Abies bifolia  Great Smoky Mountains National Park            72\n",
      "2   Abies bifolia            Yellowstone National Park           215\n",
      "3   Abies bifolia               Yosemite National Park           136\n",
      "4  Abies concolor                  Bryce National Park            83\n",
      "-------------------------------------------------------------------------------------\n",
      "       scientific_name            park_name  observations\n",
      "count            22164                22164  22164.000000\n",
      "unique            5541                    4           NaN\n",
      "top      Abies bifolia  Bryce National Park           NaN\n",
      "freq                 4                 5541           NaN\n",
      "mean               NaN                  NaN    149.555089\n",
      "std                NaN                  NaN     81.421299\n",
      "min                NaN                  NaN      9.000000\n",
      "25%                NaN                  NaN     88.000000\n",
      "50%                NaN                  NaN    129.000000\n",
      "75%                NaN                  NaN    217.000000\n",
      "max                NaN                  NaN    805.000000\n",
      "-------------------------------------------------------------------------------------\n"
     ]
    }
   ],
   "source": [
    "print(obs.head())\n",
    "print('-------------------------------------------------------------------------------------')\n",
    "print(obs.describe(include='all'))\n",
    "print('-------------------------------------------------------------------------------------')"
   ]
  },
  {
   "attachments": {},
   "cell_type": "markdown",
   "metadata": {},
   "source": [
    "`scientific_name` and `park_name` are both nominal variables while `observation` is a discrete quantitative variable. Notice the existence of four categories of parks, and 5541 distinct species, the same number of species described in the `species_info` dataset."
   ]
  },
  {
   "cell_type": "code",
   "execution_count": 34,
   "metadata": {},
   "outputs": [
    {
     "name": "stdout",
     "output_type": "stream",
     "text": [
      "The available parks where we observed the different species :\n",
      "\t- Bryce National Park\n",
      "\t- Great Smoky Mountains National Park\n",
      "\t- Yellowstone National Park\n",
      "\t- Yosemite National Park\n"
     ]
    }
   ],
   "source": [
    "parks = obs.park_name.unique()\n",
    "\n",
    "print('The available parks where we observed the different species :')\n",
    "for park in parks:\n",
    "    print(f'\\t- {park}')"
   ]
  },
  {
   "attachments": {},
   "cell_type": "markdown",
   "metadata": {},
   "source": [
    "From inspecting the data, it appears that for each species, we associate its observation with each of the four parks."
   ]
  },
  {
   "cell_type": "code",
   "execution_count": 35,
   "metadata": {},
   "outputs": [
    {
     "name": "stdout",
     "output_type": "stream",
     "text": [
      "The top 10 most observed species are:\n",
      "-------------------------------------\n",
      "            scientific_name        category  observations\n",
      "4993  Streptopelia decaocto            Bird          1785\n",
      "2452         Holcus lanatus  Vascular Plant          1780\n",
      "1103      Castor canadensis          Mammal          1725\n",
      "2555   Hypochaeris radicata  Vascular Plant          1720\n",
      "4179          Puma concolor          Mammal          1711\n",
      "4109          Procyon lotor          Mammal          1692\n",
      "1359          Columba livia            Bird          1653\n",
      "3322       Myotis lucifugus          Mammal          1547\n",
      "583       Bidens tripartita  Vascular Plant          1296\n",
      "3494        Oxalis dillenii  Vascular Plant          1276\n",
      "\n",
      "The top 10 least observed species are:\n",
      "--------------------------------------\n",
      "                   scientific_name   category  observations\n",
      "2323                Grus americana       Bird           131\n",
      "805                    Canis rufus     Mammal           137\n",
      "5356           Vermivora bachmanii       Bird           141\n",
      "3394               Noturus baileyi       Fish           143\n",
      "4247                  Rana sierrae  Amphibian           144\n",
      "3324                Myotis sodalis     Mammal           145\n",
      "1206             Chasmistes liorus       Fish           146\n",
      "3778             Picoides borealis       Bird           146\n",
      "2292  Glaucomys sabrinus coloratus     Mammal           153\n",
      "3492       Ovis canadensis sierrae     Mammal           153\n"
     ]
    }
   ],
   "source": [
    "def most_least_viewer(obs, top):\n",
    "\n",
    "    # most and least observed species\n",
    "    obs_species = obs.groupby(by='scientific_name').sum('observations').reset_index()\n",
    "\n",
    "    # adding the category column for each species\n",
    "    obs_species = pd.merge(obs_species, info, how='inner', left_on = 'scientific_name', right_on = 'scientific_name')[['scientific_name', 'category', 'observations']]\n",
    "\n",
    "    print(f'The top {top} most observed species are:\\n-------------------------------------')\n",
    "    print(obs_species.sort_values(by='observations', ascending=False)[['scientific_name', 'category', 'observations']].head(top))\n",
    "    print(f'\\nThe top {top} least observed species are:\\n--------------------------------------')\n",
    "    print(obs_species.sort_values(by='observations', ascending=True)[['scientific_name', 'category', 'observations']].head(top))\n",
    "\n",
    "most_least_viewer(obs, 10)"
   ]
  },
  {
   "attachments": {},
   "cell_type": "markdown",
   "metadata": {},
   "source": [
    "Let's get deeper and look at the top 3 most and least observed species for each park."
   ]
  },
  {
   "cell_type": "code",
   "execution_count": 36,
   "metadata": {},
   "outputs": [
    {
     "name": "stdout",
     "output_type": "stream",
     "text": [
      "Viewer for Bryce National Park\n",
      "\n",
      "The top 3 most observed species are:\n",
      "-------------------------------------\n",
      "     scientific_name        category  observations\n",
      "1359   Columba livia            Bird           339\n",
      "4179   Puma concolor          Mammal           311\n",
      "533     Avena sativa  Vascular Plant           303\n",
      "\n",
      "The top 3 least observed species are:\n",
      "--------------------------------------\n",
      "              scientific_name        category  observations\n",
      "1415          Corydalis aurea  Vascular Plant             9\n",
      "5356      Vermivora bachmanii            Bird            20\n",
      "3492  Ovis canadensis sierrae          Mammal            22\n",
      "\n",
      "\n",
      "\n",
      "\n",
      "Viewer for Great Smoky Mountains National Park\n",
      "\n",
      "The top 3 most observed species are:\n",
      "-------------------------------------\n",
      "            scientific_name category  observations\n",
      "4993  Streptopelia decaocto     Bird           256\n",
      "4109          Procyon lotor   Mammal           247\n",
      "1103      Castor canadensis   Mammal           243\n",
      "\n",
      "The top 3 least observed species are:\n",
      "--------------------------------------\n",
      "         scientific_name        category  observations\n",
      "1355  Collomia tinctoria  Vascular Plant            10\n",
      "5000  Strix occidentalis            Bird            11\n",
      "4247        Rana sierrae       Amphibian            11\n",
      "\n",
      "\n",
      "\n",
      "\n",
      "Viewer for Yellowstone National Park\n",
      "\n",
      "The top 3 most observed species are:\n",
      "-------------------------------------\n",
      "            scientific_name        category  observations\n",
      "2452         Holcus lanatus  Vascular Plant           805\n",
      "4993  Streptopelia decaocto            Bird           771\n",
      "4179          Puma concolor          Mammal           753\n",
      "\n",
      "The top 3 least observed species are:\n",
      "--------------------------------------\n",
      "          scientific_name category  observations\n",
      "2323       Grus americana     Bird            57\n",
      "5356  Vermivora bachmanii     Bird            58\n",
      "805           Canis rufus   Mammal            60\n",
      "\n",
      "\n",
      "\n",
      "\n",
      "Viewer for Yosemite National Park\n",
      "\n",
      "The top 3 most observed species are:\n",
      "-------------------------------------\n",
      "           scientific_name        category  observations\n",
      "2555  Hypochaeris radicata  Vascular Plant           505\n",
      "1103     Castor canadensis          Mammal           501\n",
      "2452        Holcus lanatus  Vascular Plant           463\n",
      "\n",
      "The top 3 least observed species are:\n",
      "--------------------------------------\n",
      "        scientific_name category  observations\n",
      "3394    Noturus baileyi     Fish            31\n",
      "805         Canis rufus   Mammal            34\n",
      "1206  Chasmistes liorus     Fish            35\n",
      "\n",
      "\n",
      "\n",
      "\n"
     ]
    }
   ],
   "source": [
    "parks = ['Bryce National Park', 'Great Smoky Mountains National Park', 'Yellowstone National Park', 'Yosemite National Park']\n",
    "\n",
    "for park in parks:\n",
    "    dataset = obs.loc[obs.park_name == park]\n",
    "    print(f'Viewer for {park}\\n')\n",
    "    most_least_viewer(dataset, 3)\n",
    "    print('\\n\\n\\n')"
   ]
  },
  {
   "attachments": {},
   "cell_type": "markdown",
   "metadata": {},
   "source": [
    "It appears that, in one hand, vascular plants, mammals and birds appeart to be at the top 3 of the most observed species for every park. On the other hand, we also find mammals in addition to fishes and amphibians at the least observed species.<br>\n",
    "It's really hard to make conclusions because of the extremely dominant missing values, and because of the disproportion of the categories for our species. This is the furthest we're gonna go in our investigation of this dataset.<br>\n",
    "Lastly, in order to protect species from extinction, we need to look at the areas where species are collected for each park, there might be some kinf of activities that are threatening these specific animals.<br>\n",
    "I suggest that in order to provide more accurate insights for the sake of protecting endangered species, more care and research need to be done in the data collection part, in order to provide more accurate information about the status, for us to be able to analyze each category independantly, and seeing if some category being endangered cause other categories to be endangered as well."
   ]
  }
 ],
 "metadata": {
  "kernelspec": {
   "display_name": "Python 3",
   "language": "python",
   "name": "python3"
  },
  "language_info": {
   "codemirror_mode": {
    "name": "ipython",
    "version": 3
   },
   "file_extension": ".py",
   "mimetype": "text/x-python",
   "name": "python",
   "nbconvert_exporter": "python",
   "pygments_lexer": "ipython3",
   "version": "3.11.0"
  },
  "vscode": {
   "interpreter": {
    "hash": "511b8cfb7a43286481c78f6d83bbdfae55158b4504b535ae37fe319fadfed426"
   }
  }
 },
 "nbformat": 4,
 "nbformat_minor": 4
}
